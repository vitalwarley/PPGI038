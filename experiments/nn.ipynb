{
 "cells": [
  {
   "cell_type": "code",
   "execution_count": 1,
   "id": "c02c49f0-2307-48f9-a8aa-97b6f7089404",
   "metadata": {},
   "outputs": [],
   "source": [
    "import numpy as np\n",
    "import pandas as pd\n",
    "import torch\n",
    "from torch.utils.data import TensorDataset, DataLoader\n",
    "import torch.nn as nn\n",
    "from tqdm import tqdm\n",
    "from sklearn.model_selection import train_test_split\n",
    "import matplotlib.pyplot as plt"
   ]
  },
  {
   "cell_type": "code",
   "execution_count": 2,
   "id": "bf4b758c-f9eb-4def-8484-35c15ad2e014",
   "metadata": {},
   "outputs": [],
   "source": [
    "X_train, y_train = pd.read_csv('../data/X_train.csv'), pd.read_csv('../data/y_train.csv')"
   ]
  },
  {
   "cell_type": "code",
   "execution_count": 3,
   "id": "b9b46bf9-9c0e-4aa3-a870-06cca37645c4",
   "metadata": {},
   "outputs": [],
   "source": [
    "X_train, X_test, y_train, y_test = train_test_split(\n",
    "    X_train,\n",
    "    y_train,\n",
    "    test_size=0.1,\n",
    "    random_state=42,\n",
    "    shuffle=True,\n",
    "    stratify=y_train\n",
    ")"
   ]
  },
  {
   "cell_type": "code",
   "execution_count": 4,
   "id": "07398819",
   "metadata": {},
   "outputs": [],
   "source": [
    "y_train = np.array([1 if e==\"S\" else 0 for e in y_train.to_numpy()]).reshape((-1, 1))\n",
    "y_test = np.array([1 if e==\"S\" else 0 for e in y_test.to_numpy()]).reshape((-1, 1))"
   ]
  },
  {
   "cell_type": "markdown",
   "id": "5926e823-41d9-4170-b368-36e1b54396ee",
   "metadata": {},
   "source": [
    "## 7. Machine Learning Model Building"
   ]
  },
  {
   "cell_type": "markdown",
   "id": "99a236bf-acf7-47e1-8de8-6d4fae0acedd",
   "metadata": {},
   "source": [
    "### Model training"
   ]
  },
  {
   "cell_type": "code",
   "execution_count": 5,
   "id": "f804ef33-b34b-4e43-a178-3426ad127b26",
   "metadata": {},
   "outputs": [],
   "source": [
    "class MLP(nn.Module):\n",
    "    def __init__(self, input_size):\n",
    "        super(MLP, self).__init__()        \n",
    "        self.input_size = input_size\n",
    "        \n",
    "        self.layers = nn.Sequential(\n",
    "            nn.Linear(in_features=input_size, out_features=512),\n",
    "            nn.ReLU(),\n",
    "            nn.Linear(in_features=512, out_features=128),\n",
    "            nn.ReLU(),\n",
    "            nn.Linear(128, 1)\n",
    "        )\n",
    "        \n",
    "        self.softmax = nn.Softmax(dim=1)\n",
    "        \n",
    "    def get_params(self):\n",
    "        return self.layers.parameters()\n",
    "    \n",
    "    def forward(self, X):\n",
    "        return self.layers(X)\n",
    "    \n",
    "    def predict(self, X):\n",
    "        logits = self.layers(X)\n",
    "        return self.softmax(logits)"
   ]
  },
  {
   "cell_type": "code",
   "execution_count": 6,
   "id": "27c6a51f",
   "metadata": {},
   "outputs": [],
   "source": [
    "device = torch.device(\"cuda:0\" if torch.cuda.is_available() else \"cpu\")\n",
    "classifier = MLP(input_size=X_train.shape[1])\n",
    "classifier.to(device)\n",
    "\n",
    "loss = nn.BCEWithLogitsLoss()\n",
    "\n",
    "params = classifier.get_params()\n",
    "optimizer = torch.optim.Adam(params)"
   ]
  },
  {
   "cell_type": "code",
   "execution_count": 7,
   "id": "951b4eb9",
   "metadata": {},
   "outputs": [],
   "source": [
    "train_dataset = TensorDataset(torch.Tensor(X_train.to_numpy()), torch.Tensor(y_train))\n",
    "test_dataset = TensorDataset(torch.Tensor(X_test.to_numpy()), torch.Tensor(y_test))\n",
    "\n",
    "train_loader = DataLoader(train_dataset, batch_size=64, shuffle=True)\n",
    "test_loader = DataLoader(test_dataset, batch_size=64, shuffle=True)"
   ]
  },
  {
   "cell_type": "code",
   "execution_count": 8,
   "id": "e46de5a6-56f6-4a3f-b9e0-f35679b94e16",
   "metadata": {},
   "outputs": [
    {
     "name": "stderr",
     "output_type": "stream",
     "text": [
      "100%|██████████| 100/100 [00:03<00:00, 27.18it/s]\n"
     ]
    }
   ],
   "source": [
    "epochs = 100\n",
    "losses = []\n",
    "\n",
    "# train loop\n",
    "for epoch in tqdm(range(epochs)):\n",
    "    loss_sum = 0\n",
    "    count = 0\n",
    "    \n",
    "    for it, (X, y) in enumerate(train_loader):\n",
    "        X = X.to(device).detach().clone()\n",
    "        y = y.to(device).detach().clone()\n",
    "                \n",
    "        optimizer.zero_grad()\n",
    "        \n",
    "        result = classifier(X)\n",
    "        LOSS = loss(y, result)\n",
    "        loss_sum += LOSS.cpu()\n",
    "        \n",
    "        LOSS.backward()\n",
    "        optimizer.step()\n",
    "        \n",
    "        count += 1\n",
    "        \n",
    "    losses.append(loss_sum/count)"
   ]
  },
  {
   "cell_type": "code",
   "execution_count": 9,
   "id": "fce142aa",
   "metadata": {},
   "outputs": [
    {
     "data": {
      "image/png": "[encoded data removed]",
      "text/plain": [
       "<Figure size 640x480 with 1 Axes>"
      ]
     },
     "metadata": {},
     "output_type": "display_data"
    }
   ],
   "source": [
    "with torch.no_grad():\n",
    "    plt.plot(losses)\n",
    "    plt.show()"
   ]
  },
  {
   "cell_type": "markdown",
   "id": "1ca6e557-0613-41e8-880d-035b1d18d53a",
   "metadata": {},
   "source": [
    "### Performance on training set"
   ]
  },
  {
   "cell_type": "code",
   "execution_count": 10,
   "id": "6c75bd99-cfac-4c3a-8424-62ff13835d64",
   "metadata": {},
   "outputs": [],
   "source": [
    "classifier.eval()\n",
    "\n",
    "labels = []\n",
    "preds = []\n",
    "\n",
    "with torch.no_grad():\n",
    "    for it, (X, y) in enumerate(train_loader):\n",
    "        X = X.to(device).detach().clone()\n",
    "        \n",
    "        result = classifier.predict(X)\n",
    "        \n",
    "        labels.append(y.numpy().astype(int))\n",
    "        preds.append(torch.round(result).cpu().numpy().astype(int))\n",
    "        \n",
    "labels = np.squeeze(np.vstack(labels))\n",
    "preds = np.squeeze(np.vstack(preds))"
   ]
  },
  {
   "cell_type": "code",
   "execution_count": 11,
   "id": "930e3eb1-0629-4281-9e22-51083a2eded3",
   "metadata": {},
   "outputs": [
    {
     "name": "stdout",
     "output_type": "stream",
     "text": [
      "              precision    recall  f1-score   support\n",
      "\n",
      "           0       0.00      0.00      0.00       281\n",
      "           1       0.71      1.00      0.83       681\n",
      "\n",
      "    accuracy                           0.71       962\n",
      "   macro avg       0.35      0.50      0.41       962\n",
      "weighted avg       0.50      0.71      0.59       962\n",
      "\n"
     ]
    },
    {
     "name": "stderr",
     "output_type": "stream",
     "text": [
      "c:\\Users\\lucas\\miniconda3\\envs\\torch_gpu\\Lib\\site-packages\\sklearn\\metrics\\_classification.py:1509: UndefinedMetricWarning: Precision is ill-defined and being set to 0.0 in labels with no predicted samples. Use `zero_division` parameter to control this behavior.\n",
      "  _warn_prf(average, modifier, f\"{metric.capitalize()} is\", len(result))\n",
      "c:\\Users\\lucas\\miniconda3\\envs\\torch_gpu\\Lib\\site-packages\\sklearn\\metrics\\_classification.py:1509: UndefinedMetricWarning: Precision is ill-defined and being set to 0.0 in labels with no predicted samples. Use `zero_division` parameter to control this behavior.\n",
      "  _warn_prf(average, modifier, f\"{metric.capitalize()} is\", len(result))\n",
      "c:\\Users\\lucas\\miniconda3\\envs\\torch_gpu\\Lib\\site-packages\\sklearn\\metrics\\_classification.py:1509: UndefinedMetricWarning: Precision is ill-defined and being set to 0.0 in labels with no predicted samples. Use `zero_division` parameter to control this behavior.\n",
      "  _warn_prf(average, modifier, f\"{metric.capitalize()} is\", len(result))\n"
     ]
    }
   ],
   "source": [
    "from sklearn.metrics import confusion_matrix, classification_report\n",
    "print(classification_report(labels, preds))"
   ]
  },
  {
   "cell_type": "code",
   "execution_count": 12,
   "id": "75083eef-8595-4e68-931f-7345ac2c5fff",
   "metadata": {},
   "outputs": [
    {
     "data": {
      "text/plain": [
       "Text(70.72222222222221, 0.5, 'Real')"
      ]
     },
     "execution_count": 12,
     "metadata": {},
     "output_type": "execute_result"
    },
    {
     "data": {
      "image/png": "[encoded data removed]",
      "text/plain": [
       "<Figure size 800x600 with 2 Axes>"
      ]
     },
     "metadata": {},
     "output_type": "display_data"
    }
   ],
   "source": [
    "import matplotlib.pyplot as plt\n",
    "import seaborn as sns\n",
    "\n",
    "cf_matrix = confusion_matrix(labels, preds)\n",
    "plt.figure(figsize=(8,6), dpi=100)\n",
    "\n",
    "ax = sns.heatmap(cf_matrix, annot=True)\n",
    "\n",
    "# set x-axis label and ticks. \n",
    "ax.set_xlabel(\"Predicted\", fontsize=14, labelpad=20)\n",
    "# ax.xaxis.set_ticklabels(target_names)\n",
    " \n",
    "# set y-axis label and ticks\n",
    "ax.set_ylabel(\"Real\", fontsize=14, labelpad=20)\n",
    "# ax.yaxis.set_ticklabels(target_names)"
   ]
  },
  {
   "cell_type": "markdown",
   "id": "8a0efcf4-550e-4f50-b3d6-f17f9ac32820",
   "metadata": {},
   "source": [
    "## 8. Model Evaluation"
   ]
  },
  {
   "cell_type": "code",
   "execution_count": 13,
   "id": "34b69b4a-8d97-46f6-b4cb-3b3a1bcef153",
   "metadata": {},
   "outputs": [],
   "source": [
    "classifier.eval()\n",
    "\n",
    "test_labels = []\n",
    "test_preds = []\n",
    "\n",
    "with torch.no_grad():\n",
    "    for it, (X, y) in enumerate(test_loader):\n",
    "        X = X.to(device).detach().clone()\n",
    "        \n",
    "        result = classifier.predict(X)\n",
    "        \n",
    "        test_labels.append(y.numpy().astype(int))\n",
    "        test_preds.append(torch.round(result).cpu().numpy().astype(int))\n",
    "        \n",
    "test_labels = np.squeeze(np.vstack(test_labels))\n",
    "test_preds = np.squeeze(np.vstack(test_preds))"
   ]
  },
  {
   "cell_type": "code",
   "execution_count": 14,
   "id": "6ad73deb-5a6d-4117-8467-81972d1ccc33",
   "metadata": {},
   "outputs": [
    {
     "name": "stdout",
     "output_type": "stream",
     "text": [
      "              precision    recall  f1-score   support\n",
      "\n",
      "           0       0.00      0.00      0.00        31\n",
      "           1       0.71      1.00      0.83        76\n",
      "\n",
      "    accuracy                           0.71       107\n",
      "   macro avg       0.36      0.50      0.42       107\n",
      "weighted avg       0.50      0.71      0.59       107\n",
      "\n"
     ]
    },
    {
     "name": "stderr",
     "output_type": "stream",
     "text": [
      "c:\\Users\\lucas\\miniconda3\\envs\\torch_gpu\\Lib\\site-packages\\sklearn\\metrics\\_classification.py:1509: UndefinedMetricWarning: Precision is ill-defined and being set to 0.0 in labels with no predicted samples. Use `zero_division` parameter to control this behavior.\n",
      "  _warn_prf(average, modifier, f\"{metric.capitalize()} is\", len(result))\n",
      "c:\\Users\\lucas\\miniconda3\\envs\\torch_gpu\\Lib\\site-packages\\sklearn\\metrics\\_classification.py:1509: UndefinedMetricWarning: Precision is ill-defined and being set to 0.0 in labels with no predicted samples. Use `zero_division` parameter to control this behavior.\n",
      "  _warn_prf(average, modifier, f\"{metric.capitalize()} is\", len(result))\n",
      "c:\\Users\\lucas\\miniconda3\\envs\\torch_gpu\\Lib\\site-packages\\sklearn\\metrics\\_classification.py:1509: UndefinedMetricWarning: Precision is ill-defined and being set to 0.0 in labels with no predicted samples. Use `zero_division` parameter to control this behavior.\n",
      "  _warn_prf(average, modifier, f\"{metric.capitalize()} is\", len(result))\n"
     ]
    }
   ],
   "source": [
    "print(classification_report(test_labels, test_preds))"
   ]
  },
  {
   "cell_type": "code",
   "execution_count": 15,
   "id": "b64d3b57-62dd-421a-b4ab-01ef894b39a3",
   "metadata": {},
   "outputs": [
    {
     "data": {
      "text/plain": [
       "Text(70.72222222222221, 0.5, 'Real')"
      ]
     },
     "execution_count": 15,
     "metadata": {},
     "output_type": "execute_result"
    },
    {
     "data": {
      "image/png": "[encoded data removed]",
      "text/plain": [
       "<Figure size 800x600 with 2 Axes>"
      ]
     },
     "metadata": {},
     "output_type": "display_data"
    }
   ],
   "source": [
    "cf_matrix = confusion_matrix(y_test, test_preds)\n",
    "plt.figure(figsize=(8,6), dpi=100)\n",
    "\n",
    "ax = sns.heatmap(cf_matrix, annot=True)\n",
    "\n",
    "# set x-axis label and ticks. \n",
    "ax.set_xlabel(\"Predicted\", fontsize=14, labelpad=20)\n",
    "# ax.xaxis.set_ticklabels(target_names)\n",
    " \n",
    "# set y-axis label and ticks\n",
    "ax.set_ylabel(\"Real\", fontsize=14, labelpad=20)\n",
    "# ax.yaxis.set_ticklabels(target_names)"
   ]
  },
  {
   "cell_type": "code",
   "execution_count": null,
   "id": "e5e9ca10-0d68-429a-9293-5d5510b528dc",
   "metadata": {},
   "outputs": [],
   "source": []
  }
 ],
 "metadata": {
  "kernelspec": {
   "display_name": "Python 3 (ipykernel)",
   "language": "python",
   "name": "python3"
  },
  "language_info": {
   "codemirror_mode": {
    "name": "ipython",
    "version": 3
   },
   "file_extension": ".py",
   "mimetype": "text/x-python",
   "name": "python",
   "nbconvert_exporter": "python",
   "pygments_lexer": "ipython3",
   "version": "3.11.5"
  }
 },
 "nbformat": 4,
 "nbformat_minor": 5
}
