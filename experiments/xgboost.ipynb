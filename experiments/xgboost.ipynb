{
 "cells": [
  {
   "cell_type": "code",
   "execution_count": 140,
   "id": "c02c49f0-2307-48f9-a8aa-97b6f7089404",
   "metadata": {},
   "outputs": [],
   "source": [
    "import numpy as np\n",
    "import pandas as pd\n",
    "import xgboost as xgb\n",
    "from sklearn.model_selection import train_test_split"
   ]
  },
  {
   "cell_type": "code",
   "execution_count": 141,
   "id": "bf4b758c-f9eb-4def-8484-35c15ad2e014",
   "metadata": {},
   "outputs": [],
   "source": [
    "X_train, y_train, X_test, y_test = pd.read_csv('.//data/X_train.csv'), pd.read_csv('.//data/y_train.csv'), pd.read_csv('.//data/X_test.csv'), pd.read_csv('.//data/y_test.csv')"
   ]
  },
  {
   "cell_type": "code",
   "execution_count": 116,
   "id": "b9b46bf9-9c0e-4aa3-a870-06cca37645c4",
   "metadata": {},
   "outputs": [],
   "source": [
    "X_train, X_test, y_train, y_test = train_test_split(\n",
    "    X_train,\n",
    "    y_train,\n",
    "    test_size=0.1,\n",
    "    random_state=42,\n",
    "    shuffle=True,\n",
    "    stratify=y_train\n",
    ")"
   ]
  },
  {
   "cell_type": "code",
   "execution_count": null,
   "id": "8fb8d12b",
   "metadata": {},
   "outputs": [],
   "source": [
    "y_train['Correto'].replace(['S', 'N'], [1, 0], inplace=True)\n",
    "y_test['Correto'].replace(['S', 'N'], [1, 0], inplace=True)"
   ]
  },
  {
   "cell_type": "code",
   "execution_count": 143,
   "id": "14d7a82d-fb24-4436-94a4-9f50453268bf",
   "metadata": {},
   "outputs": [
    {
     "data": {
      "text/html": [
       "<div>\n",
       "<style scoped>\n",
       "    .dataframe tbody tr th:only-of-type {\n",
       "        vertical-align: middle;\n",
       "    }\n",
       "\n",
       "    .dataframe tbody tr th {\n",
       "        vertical-align: top;\n",
       "    }\n",
       "\n",
       "    .dataframe thead th {\n",
       "        text-align: right;\n",
       "    }\n",
       "</style>\n",
       "<table border=\"1\" class=\"dataframe\">\n",
       "  <thead>\n",
       "    <tr style=\"text-align: right;\">\n",
       "      <th></th>\n",
       "      <th>Correto</th>\n",
       "    </tr>\n",
       "  </thead>\n",
       "  <tbody>\n",
       "    <tr>\n",
       "      <th>0</th>\n",
       "      <td>1</td>\n",
       "    </tr>\n",
       "    <tr>\n",
       "      <th>1</th>\n",
       "      <td>1</td>\n",
       "    </tr>\n",
       "    <tr>\n",
       "      <th>2</th>\n",
       "      <td>0</td>\n",
       "    </tr>\n",
       "    <tr>\n",
       "      <th>3</th>\n",
       "      <td>0</td>\n",
       "    </tr>\n",
       "    <tr>\n",
       "      <th>4</th>\n",
       "      <td>0</td>\n",
       "    </tr>\n",
       "    <tr>\n",
       "      <th>...</th>\n",
       "      <td>...</td>\n",
       "    </tr>\n",
       "    <tr>\n",
       "      <th>1064</th>\n",
       "      <td>1</td>\n",
       "    </tr>\n",
       "    <tr>\n",
       "      <th>1065</th>\n",
       "      <td>1</td>\n",
       "    </tr>\n",
       "    <tr>\n",
       "      <th>1066</th>\n",
       "      <td>1</td>\n",
       "    </tr>\n",
       "    <tr>\n",
       "      <th>1067</th>\n",
       "      <td>1</td>\n",
       "    </tr>\n",
       "    <tr>\n",
       "      <th>1068</th>\n",
       "      <td>1</td>\n",
       "    </tr>\n",
       "  </tbody>\n",
       "</table>\n",
       "<p>1069 rows × 1 columns</p>\n",
       "</div>"
      ],
      "text/plain": [
       "      Correto\n",
       "0           1\n",
       "1           1\n",
       "2           0\n",
       "3           0\n",
       "4           0\n",
       "...       ...\n",
       "1064        1\n",
       "1065        1\n",
       "1066        1\n",
       "1067        1\n",
       "1068        1\n",
       "\n",
       "[1069 rows x 1 columns]"
      ]
     },
     "execution_count": 143,
     "metadata": {},
     "output_type": "execute_result"
    }
   ],
   "source": [
    "y_train"
   ]
  },
  {
   "cell_type": "markdown",
   "id": "5926e823-41d9-4170-b368-36e1b54396ee",
   "metadata": {},
   "source": [
    "## 7. Machine Learning Model Building"
   ]
  },
  {
   "cell_type": "markdown",
   "id": "99a236bf-acf7-47e1-8de8-6d4fae0acedd",
   "metadata": {},
   "source": [
    "### Model training"
   ]
  },
  {
   "cell_type": "code",
   "execution_count": 144,
   "id": "0f745427",
   "metadata": {},
   "outputs": [],
   "source": [
    "xgb_model = xgb.XGBClassifier(objective=\"binary:logistic\", random_state=42)\n",
    "xgb_model.fit(X_train, y_train)\n",
    "\n",
    "preds = xgb_model.predict(X_train)"
   ]
  },
  {
   "cell_type": "markdown",
   "id": "1ca6e557-0613-41e8-880d-035b1d18d53a",
   "metadata": {},
   "source": [
    "### Performance on training set"
   ]
  },
  {
   "cell_type": "code",
   "execution_count": 145,
   "id": "930e3eb1-0629-4281-9e22-51083a2eded3",
   "metadata": {},
   "outputs": [
    {
     "name": "stdout",
     "output_type": "stream",
     "text": [
      "              precision    recall  f1-score   support\n",
      "\n",
      "           S       1.00      0.97      0.98       312\n",
      "           N       0.99      1.00      0.99       757\n",
      "\n",
      "    accuracy                           0.99      1069\n",
      "   macro avg       0.99      0.98      0.99      1069\n",
      "weighted avg       0.99      0.99      0.99      1069\n",
      "\n"
     ]
    }
   ],
   "source": [
    "from sklearn.metrics import confusion_matrix, classification_report\n",
    "target_names=[\"S\", \"N\"]\n",
    "print(classification_report(y_train, preds, target_names=target_names))"
   ]
  },
  {
   "cell_type": "code",
   "execution_count": 146,
   "id": "75083eef-8595-4e68-931f-7345ac2c5fff",
   "metadata": {},
   "outputs": [
    {
     "data": {
      "text/plain": [
       "[Text(0, 0.5, 'S'), Text(0, 1.5, 'N')]"
      ]
     },
     "execution_count": 146,
     "metadata": {},
     "output_type": "execute_result"
    },
    {
     "data": {
      "image/png": "[encoded data removed]",
      "text/plain": [
       "<Figure size 800x600 with 2 Axes>"
      ]
     },
     "metadata": {},
     "output_type": "display_data"
    }
   ],
   "source": [
    "import matplotlib.pyplot as plt\n",
    "import seaborn as sns\n",
    "\n",
    "cf_matrix = confusion_matrix(y_train, preds)\n",
    "plt.figure(figsize=(8,6), dpi=100)\n",
    "\n",
    "ax = sns.heatmap(cf_matrix, annot=True)\n",
    "\n",
    "# set x-axis label and ticks. \n",
    "ax.set_xlabel(\"Predicted\", fontsize=14, labelpad=20)\n",
    "ax.xaxis.set_ticklabels(target_names)\n",
    " \n",
    "# set y-axis label and ticks\n",
    "ax.set_ylabel(\"Real\", fontsize=14, labelpad=20)\n",
    "ax.yaxis.set_ticklabels(target_names)"
   ]
  },
  {
   "cell_type": "markdown",
   "id": "8a0efcf4-550e-4f50-b3d6-f17f9ac32820",
   "metadata": {},
   "source": [
    "## 8. Model Evaluation"
   ]
  },
  {
   "cell_type": "code",
   "execution_count": 147,
   "id": "34b69b4a-8d97-46f6-b4cb-3b3a1bcef153",
   "metadata": {},
   "outputs": [],
   "source": [
    "test_preds = xgb_model.predict(X_test)"
   ]
  },
  {
   "cell_type": "code",
   "execution_count": 148,
   "id": "6ad73deb-5a6d-4117-8467-81972d1ccc33",
   "metadata": {},
   "outputs": [
    {
     "name": "stdout",
     "output_type": "stream",
     "text": [
      "              precision    recall  f1-score   support\n",
      "\n",
      "           S       0.35      0.24      0.28       134\n",
      "           N       0.72      0.82      0.77       325\n",
      "\n",
      "    accuracy                           0.65       459\n",
      "   macro avg       0.54      0.53      0.53       459\n",
      "weighted avg       0.61      0.65      0.63       459\n",
      "\n"
     ]
    }
   ],
   "source": [
    "target_names=[\"S\", \"N\"]\n",
    "print(classification_report(y_test, test_preds, target_names=target_names))"
   ]
  },
  {
   "cell_type": "code",
   "execution_count": 149,
   "id": "b64d3b57-62dd-421a-b4ab-01ef894b39a3",
   "metadata": {},
   "outputs": [
    {
     "data": {
      "text/plain": [
       "[Text(0, 0.5, 'S'), Text(0, 1.5, 'N')]"
      ]
     },
     "execution_count": 149,
     "metadata": {},
     "output_type": "execute_result"
    },
    {
     "data": {
      "image/png": "[encoded data removed]",
      "text/plain": [
       "<Figure size 800x600 with 2 Axes>"
      ]
     },
     "metadata": {},
     "output_type": "display_data"
    }
   ],
   "source": [
    "cf_matrix = confusion_matrix(y_test, test_preds)\n",
    "plt.figure(figsize=(8,6), dpi=100)\n",
    "\n",
    "ax = sns.heatmap(cf_matrix, annot=True)\n",
    "\n",
    "# set x-axis label and ticks. \n",
    "ax.set_xlabel(\"Predicted\", fontsize=14, labelpad=20)\n",
    "ax.xaxis.set_ticklabels(target_names)\n",
    " \n",
    "# set y-axis label and ticks\n",
    "ax.set_ylabel(\"Real\", fontsize=14, labelpad=20)\n",
    "ax.yaxis.set_ticklabels(target_names)"
   ]
  },
  {
   "cell_type": "code",
   "execution_count": null,
   "id": "e5e9ca10-0d68-429a-9293-5d5510b528dc",
   "metadata": {},
   "outputs": [],
   "source": []
  }
 ],
 "metadata": {
  "kernelspec": {
   "display_name": "Python 3 (ipykernel)",
   "language": "python",
   "name": "python3"
  },
  "language_info": {
   "codemirror_mode": {
    "name": "ipython",
    "version": 3
   },
   "file_extension": ".py",
   "mimetype": "text/x-python",
   "name": "python",
   "nbconvert_exporter": "python",
   "pygments_lexer": "ipython3",
   "version": "3.12.2"
  }
 },
 "nbformat": 4,
 "nbformat_minor": 5
}
