{
 "cells": [
  {
   "cell_type": "code",
   "execution_count": 1,
   "id": "c02c49f0-2307-48f9-a8aa-97b6f7089404",
   "metadata": {},
   "outputs": [],
   "source": [
    "import numpy as np\n",
    "import pandas as pd\n",
    "import xgboost as xgb\n",
    "from sklearn.model_selection import train_test_split"
   ]
  },
  {
   "cell_type": "code",
   "execution_count": 2,
   "id": "bf4b758c-f9eb-4def-8484-35c15ad2e014",
   "metadata": {},
   "outputs": [],
   "source": [
    "X_train, y_train = pd.read_csv('../data/X_train.csv'), pd.read_csv('../data/y_train.csv')"
   ]
  },
  {
   "cell_type": "code",
   "execution_count": 3,
   "id": "b9b46bf9-9c0e-4aa3-a870-06cca37645c4",
   "metadata": {},
   "outputs": [],
   "source": [
    "X_train, X_test, y_train, y_test = train_test_split(\n",
    "    X_train,\n",
    "    y_train,\n",
    "    test_size=0.1,\n",
    "    random_state=42,\n",
    "    shuffle=True,\n",
    "    stratify=y_train\n",
    ")"
   ]
  },
  {
   "cell_type": "code",
   "execution_count": 4,
   "id": "a2789c5a-b467-45e5-956f-cdef64c12a26",
   "metadata": {},
   "outputs": [],
   "source": [
    "X_train['AL_category'] = X_train['AL_category'].astype('category')\n",
    "X_test['AL_category'] = X_test['AL_category'].astype('category')"
   ]
  },
  {
   "cell_type": "code",
   "execution_count": 5,
   "id": "8fb8d12b",
   "metadata": {},
   "outputs": [
    {
     "name": "stderr",
     "output_type": "stream",
     "text": [
      "/tmp/ipykernel_234092/756657008.py:1: FutureWarning: Downcasting behavior in `replace` is deprecated and will be removed in a future version. To retain the old behavior, explicitly call `result.infer_objects(copy=False)`. To opt-in to the future behavior, set `pd.set_option('future.no_silent_downcasting', True)`\n",
      "  y_train['Correto'] = y_train['Correto'].replace(['S', 'N'], [1, 0])\n",
      "/tmp/ipykernel_234092/756657008.py:2: FutureWarning: Downcasting behavior in `replace` is deprecated and will be removed in a future version. To retain the old behavior, explicitly call `result.infer_objects(copy=False)`. To opt-in to the future behavior, set `pd.set_option('future.no_silent_downcasting', True)`\n",
      "  y_test['Correto'] = y_test['Correto'].replace(['S', 'N'], [1, 0])\n"
     ]
    }
   ],
   "source": [
    "y_train['Correto'] = y_train['Correto'].replace(['S', 'N'], [1, 0])\n",
    "y_test['Correto'] = y_test['Correto'].replace(['S', 'N'], [1, 0])"
   ]
  },
  {
   "cell_type": "code",
   "execution_count": 6,
   "id": "14d7a82d-fb24-4436-94a4-9f50453268bf",
   "metadata": {},
   "outputs": [
    {
     "data": {
      "text/html": [
       "<div>\n",
       "<style scoped>\n",
       "    .dataframe tbody tr th:only-of-type {\n",
       "        vertical-align: middle;\n",
       "    }\n",
       "\n",
       "    .dataframe tbody tr th {\n",
       "        vertical-align: top;\n",
       "    }\n",
       "\n",
       "    .dataframe thead th {\n",
       "        text-align: right;\n",
       "    }\n",
       "</style>\n",
       "<table border=\"1\" class=\"dataframe\">\n",
       "  <thead>\n",
       "    <tr style=\"text-align: right;\">\n",
       "      <th></th>\n",
       "      <th>Correto</th>\n",
       "    </tr>\n",
       "  </thead>\n",
       "  <tbody>\n",
       "    <tr>\n",
       "      <th>90</th>\n",
       "      <td>1</td>\n",
       "    </tr>\n",
       "    <tr>\n",
       "      <th>28</th>\n",
       "      <td>0</td>\n",
       "    </tr>\n",
       "    <tr>\n",
       "      <th>959</th>\n",
       "      <td>1</td>\n",
       "    </tr>\n",
       "    <tr>\n",
       "      <th>912</th>\n",
       "      <td>0</td>\n",
       "    </tr>\n",
       "    <tr>\n",
       "      <th>981</th>\n",
       "      <td>0</td>\n",
       "    </tr>\n",
       "    <tr>\n",
       "      <th>...</th>\n",
       "      <td>...</td>\n",
       "    </tr>\n",
       "    <tr>\n",
       "      <th>968</th>\n",
       "      <td>1</td>\n",
       "    </tr>\n",
       "    <tr>\n",
       "      <th>1042</th>\n",
       "      <td>1</td>\n",
       "    </tr>\n",
       "    <tr>\n",
       "      <th>849</th>\n",
       "      <td>1</td>\n",
       "    </tr>\n",
       "    <tr>\n",
       "      <th>760</th>\n",
       "      <td>0</td>\n",
       "    </tr>\n",
       "    <tr>\n",
       "      <th>259</th>\n",
       "      <td>0</td>\n",
       "    </tr>\n",
       "  </tbody>\n",
       "</table>\n",
       "<p>962 rows × 1 columns</p>\n",
       "</div>"
      ],
      "text/plain": [
       "      Correto\n",
       "90          1\n",
       "28          0\n",
       "959         1\n",
       "912         0\n",
       "981         0\n",
       "...       ...\n",
       "968         1\n",
       "1042        1\n",
       "849         1\n",
       "760         0\n",
       "259         0\n",
       "\n",
       "[962 rows x 1 columns]"
      ]
     },
     "execution_count": 6,
     "metadata": {},
     "output_type": "execute_result"
    }
   ],
   "source": [
    "y_train"
   ]
  },
  {
   "cell_type": "markdown",
   "id": "5926e823-41d9-4170-b368-36e1b54396ee",
   "metadata": {},
   "source": [
    "## 7. Machine Learning Model Building"
   ]
  },
  {
   "cell_type": "markdown",
   "id": "99a236bf-acf7-47e1-8de8-6d4fae0acedd",
   "metadata": {},
   "source": [
    "### Model training"
   ]
  },
  {
   "cell_type": "code",
   "execution_count": 7,
   "id": "0f745427",
   "metadata": {},
   "outputs": [],
   "source": [
    "xgb_model = xgb.XGBClassifier(objective=\"binary:logistic\", enable_categorical=True, random_state=42)\n",
    "xgb_model.fit(X_train, y_train)\n",
    "\n",
    "preds = xgb_model.predict(X_train)"
   ]
  },
  {
   "cell_type": "markdown",
   "id": "1ca6e557-0613-41e8-880d-035b1d18d53a",
   "metadata": {},
   "source": [
    "### Performance on training set"
   ]
  },
  {
   "cell_type": "code",
   "execution_count": 8,
   "id": "930e3eb1-0629-4281-9e22-51083a2eded3",
   "metadata": {},
   "outputs": [
    {
     "name": "stdout",
     "output_type": "stream",
     "text": [
      "              precision    recall  f1-score   support\n",
      "\n",
      "           S       1.00      1.00      1.00       281\n",
      "           N       1.00      1.00      1.00       681\n",
      "\n",
      "    accuracy                           1.00       962\n",
      "   macro avg       1.00      1.00      1.00       962\n",
      "weighted avg       1.00      1.00      1.00       962\n",
      "\n"
     ]
    }
   ],
   "source": [
    "from sklearn.metrics import confusion_matrix, classification_report\n",
    "target_names=[\"S\", \"N\"]\n",
    "print(classification_report(y_train, preds, target_names=target_names))"
   ]
  },
  {
   "cell_type": "code",
   "execution_count": 9,
   "id": "75083eef-8595-4e68-931f-7345ac2c5fff",
   "metadata": {},
   "outputs": [
    {
     "data": {
      "text/plain": [
       "[Text(0, 0.5, 'S'), Text(0, 1.5, 'N')]"
      ]
     },
     "execution_count": 9,
     "metadata": {},
     "output_type": "execute_result"
    },
    {
     "data": {
      "image/png": "[encoded data removed]",
      "text/plain": [
       "<Figure size 800x600 with 2 Axes>"
      ]
     },
     "metadata": {},
     "output_type": "display_data"
    }
   ],
   "source": [
    "import matplotlib.pyplot as plt\n",
    "import seaborn as sns\n",
    "\n",
    "cf_matrix = confusion_matrix(y_train, preds)\n",
    "plt.figure(figsize=(8,6), dpi=100)\n",
    "\n",
    "ax = sns.heatmap(cf_matrix, annot=True)\n",
    "\n",
    "# set x-axis label and ticks. \n",
    "ax.set_xlabel(\"Predicted\", fontsize=14, labelpad=20)\n",
    "ax.xaxis.set_ticklabels(target_names)\n",
    " \n",
    "# set y-axis label and ticks\n",
    "ax.set_ylabel(\"Real\", fontsize=14, labelpad=20)\n",
    "ax.yaxis.set_ticklabels(target_names)"
   ]
  },
  {
   "cell_type": "markdown",
   "id": "8a0efcf4-550e-4f50-b3d6-f17f9ac32820",
   "metadata": {},
   "source": [
    "## 8. Model Evaluation"
   ]
  },
  {
   "cell_type": "code",
   "execution_count": 10,
   "id": "34b69b4a-8d97-46f6-b4cb-3b3a1bcef153",
   "metadata": {},
   "outputs": [],
   "source": [
    "test_preds = xgb_model.predict(X_test)"
   ]
  },
  {
   "cell_type": "code",
   "execution_count": 11,
   "id": "6ad73deb-5a6d-4117-8467-81972d1ccc33",
   "metadata": {},
   "outputs": [
    {
     "name": "stdout",
     "output_type": "stream",
     "text": [
      "              precision    recall  f1-score   support\n",
      "\n",
      "           S       0.35      0.23      0.27        31\n",
      "           N       0.72      0.83      0.77        76\n",
      "\n",
      "    accuracy                           0.65       107\n",
      "   macro avg       0.54      0.53      0.52       107\n",
      "weighted avg       0.62      0.65      0.63       107\n",
      "\n"
     ]
    }
   ],
   "source": [
    "target_names=[\"S\", \"N\"]\n",
    "print(classification_report(y_test, test_preds, target_names=target_names))"
   ]
  },
  {
   "cell_type": "code",
   "execution_count": 12,
   "id": "b64d3b57-62dd-421a-b4ab-01ef894b39a3",
   "metadata": {},
   "outputs": [
    {
     "data": {
      "text/plain": [
       "[Text(0, 0.5, 'S'), Text(0, 1.5, 'N')]"
      ]
     },
     "execution_count": 12,
     "metadata": {},
     "output_type": "execute_result"
    },
    {
     "data": {
      "image/png": "[encoded data removed]",
      "text/plain": [
       "<Figure size 800x600 with 2 Axes>"
      ]
     },
     "metadata": {},
     "output_type": "display_data"
    }
   ],
   "source": [
    "cf_matrix = confusion_matrix(y_test, test_preds)\n",
    "plt.figure(figsize=(8,6), dpi=100)\n",
    "\n",
    "ax = sns.heatmap(cf_matrix, annot=True)\n",
    "\n",
    "# set x-axis label and ticks. \n",
    "ax.set_xlabel(\"Predicted\", fontsize=14, labelpad=20)\n",
    "ax.xaxis.set_ticklabels(target_names)\n",
    " \n",
    "# set y-axis label and ticks\n",
    "ax.set_ylabel(\"Real\", fontsize=14, labelpad=20)\n",
    "ax.yaxis.set_ticklabels(target_names)"
   ]
  },
  {
   "cell_type": "code",
   "execution_count": null,
   "id": "e5e9ca10-0d68-429a-9293-5d5510b528dc",
   "metadata": {},
   "outputs": [],
   "source": []
  }
 ],
 "metadata": {
  "kernelspec": {
   "display_name": "Python 3 (ipykernel)",
   "language": "python",
   "name": "python3"
  },
  "language_info": {
   "codemirror_mode": {
    "name": "ipython",
    "version": 3
   },
   "file_extension": ".py",
   "mimetype": "text/x-python",
   "name": "python",
   "nbconvert_exporter": "python",
   "pygments_lexer": "ipython3",
   "version": "3.11.8"
  }
 },
 "nbformat": 4,
 "nbformat_minor": 5
}
